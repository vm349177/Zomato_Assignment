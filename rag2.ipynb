{
 "cells": [
  {
   "cell_type": "markdown",
   "id": "7bd889ca",
   "metadata": {},
   "source": [
    "# Full Setup: Normalize CSV, Load into SQLite, and Query with LangChain"
   ]
  },
  {
   "cell_type": "code",
   "execution_count": null,
   "id": "a02acd3a",
   "metadata": {},
   "outputs": [],
   "source": [
    "import pandas as pd\n",
    "import sqlite3\n",
    "import os\n",
    "from langchain.chains import create_sql_query_chain\n",
    "from langchain.sql_database import SQLDatabase\n",
    "from langchain.llms import HuggingFacePipeline\n",
    "from transformers import AutoTokenizer, AutoModelForSeq2SeqLM, pipeline"
   ]
  },
  {
   "cell_type": "markdown",
   "id": "02cbb648",
   "metadata": {},
   "source": [
    "# Step 1: Loading CSV"
   ]
  },
  {
   "cell_type": "code",
   "execution_count": null,
   "id": "905d0a37",
   "metadata": {},
   "outputs": [],
   "source": [
    "csv_data = {\n",
    "    \"restaurant\": [\"Cafe Spice\", \"Cafe Spice\"],\n",
    "    \"category\": [\"Dessert\", \"Main Course\"],\n",
    "    \"item_name\": [\"Chocolate Cake\", \"Butter Chicken\"],\n",
    "    \"description\": [\"Rich chocolate cake\", \"Creamy spiced chicken\"],\n",
    "    \"options\": [None, \"Rice/Naan\"],\n",
    "    \"tags\": [\"gluten-free\", \"spicy, dairy\"],\n",
    "    \"address\": [\"123 Main St\", \"123 Main St\"],\n",
    "    \"state\": [\"NY\", \"NY\"],\n",
    "    \"contact_info\": [\"1234567890\", \"1234567890\"]\n",
    "}\n",
    "df = pd.DataFrame(csv_data)"
   ]
  },
  {
   "cell_type": "markdown",
   "id": "d44e6144",
   "metadata": {},
   "source": [
    "# Step 2: Normalize & Store in SQLite"
   ]
  },
  {
   "cell_type": "code",
   "execution_count": null,
   "id": "4917a983",
   "metadata": {},
   "outputs": [],
   "source": [
    "db_name = \"normalized_restaurant_data.db\"\n",
    "if os.path.exists(db_name):\n",
    "    os.remove(db_name)\n",
    "conn = sqlite3.connect(db_name)\n",
    "cur = conn.cursor()\n",
    "\n",
    "cur.executescript(\"\"\"\n",
    "CREATE TABLE IF NOT EXISTS restaurants (\n",
    "    id INTEGER PRIMARY KEY AUTOINCREMENT,\n",
    "    name TEXT UNIQUE,\n",
    "    contact_info TEXT\n",
    ");\n",
    "\n",
    "CREATE TABLE IF NOT EXISTS locations (\n",
    "    id INTEGER PRIMARY KEY AUTOINCREMENT,\n",
    "    restaurant_id INTEGER,\n",
    "    address TEXT,\n",
    "    state TEXT,\n",
    "    FOREIGN KEY (restaurant_id) REFERENCES restaurants(id)\n",
    ");\n",
    "\n",
    "CREATE TABLE IF NOT EXISTS categories (\n",
    "    id INTEGER PRIMARY KEY AUTOINCREMENT,\n",
    "    name TEXT UNIQUE\n",
    ");\n",
    "\n",
    "CREATE TABLE IF NOT EXISTS menu_items (\n",
    "    id INTEGER PRIMARY KEY AUTOINCREMENT,\n",
    "    restaurant_id INTEGER,\n",
    "    category_id INTEGER,\n",
    "    item_name TEXT,\n",
    "    description TEXT,\n",
    "    options TEXT,\n",
    "    tags TEXT,\n",
    "    FOREIGN KEY (restaurant_id) REFERENCES restaurants(id),\n",
    "    FOREIGN KEY (category_id) REFERENCES categories(id)\n",
    ");\n",
    "\"\"\")\n",
    "\n",
    "def get_or_create_id(table, column, value):\n",
    "    cur.execute(f\"SELECT id FROM {table} WHERE {column} = ?\", (value,))\n",
    "    result = cur.fetchone()\n",
    "    if result:\n",
    "        return result[0]\n",
    "    cur.execute(f\"INSERT INTO {table} ({column}) VALUES (?)\", (value,))\n",
    "    return cur.lastrowid\n",
    "\n",
    "for _, row in df.iterrows():\n",
    "    cur.execute(\"SELECT id FROM restaurants WHERE name = ?\", (row[\"restaurant\"],))\n",
    "    res = cur.fetchone()\n",
    "    restaurant_id = res[0] if res else cur.execute(\n",
    "        \"INSERT INTO restaurants (name, contact_info) VALUES (?, ?)\",\n",
    "        (row[\"restaurant\"], row[\"contact_info\"])).lastrowid\n",
    "\n",
    "    cur.execute(\"\"\"SELECT id FROM locations WHERE restaurant_id = ? AND address = ? AND state = ?\"\"\",\n",
    "                (restaurant_id, row[\"address\"], row[\"state\"]))\n",
    "    if not cur.fetchone():\n",
    "        cur.execute(\"\"\"INSERT INTO locations (restaurant_id, address, state) VALUES (?, ?, ?)\"\"\",\n",
    "                    (restaurant_id, row[\"address\"], row[\"state\"]))\n",
    "\n",
    "    category_id = get_or_create_id(\"categories\", \"name\", row[\"category\"])\n",
    "\n",
    "    cur.execute(\"\"\"INSERT INTO menu_items \n",
    "        (restaurant_id, category_id, item_name, description, options, tags) \n",
    "        VALUES (?, ?, ?, ?, ?, ?)\"\"\",\n",
    "        (restaurant_id, category_id, row[\"item_name\"], row[\"description\"], row[\"options\"], row[\"tags\"]))\n",
    "\n",
    "conn.commit()\n",
    "conn.close()"
   ]
  },
  {
   "cell_type": "markdown",
   "id": "bebe371a",
   "metadata": {},
   "source": [
    "# Step 3: Load SQLite DB for LangChain "
   ]
  },
  {
   "cell_type": "code",
   "execution_count": null,
   "id": "ab85da86",
   "metadata": {},
   "outputs": [],
   "source": [
    "db = SQLDatabase.from_uri(\"sqlite:///normalized_restaurant_data.db\")"
   ]
  },
  {
   "cell_type": "markdown",
   "id": "a2d8dc36",
   "metadata": {},
   "source": [
    "# Step 4: Setup Local HuggingFace Model "
   ]
  },
  {
   "cell_type": "code",
   "execution_count": null,
   "id": "67877ba0",
   "metadata": {},
   "outputs": [],
   "source": [
    "model_name = \"google/flan-t5-large\"\n",
    "tokenizer = AutoTokenizer.from_pretrained(model_name)\n",
    "model = AutoModelForSeq2SeqLM.from_pretrained(model_name)\n",
    "\n",
    "hf_pipeline = pipeline(\n",
    "    \"text2text-generation\",\n",
    "    model=model,\n",
    "    tokenizer=tokenizer,\n",
    "    max_length=512,\n",
    "    temperature=0.3\n",
    ")\n",
    "\n",
    "llm = HuggingFacePipeline(pipeline=hf_pipeline)"
   ]
  },
  {
   "cell_type": "markdown",
   "id": "6472177e",
   "metadata": {},
   "source": [
    "# Step 5: Create SQL Chain "
   ]
  },
  {
   "cell_type": "code",
   "execution_count": null,
   "id": "09a537bc",
   "metadata": {},
   "outputs": [],
   "source": [
    "chain = create_sql_query_chain(llm, db)"
   ]
  },
  {
   "cell_type": "markdown",
   "id": "aa50b66a",
   "metadata": {},
   "source": [
    "# --- Step 6: Ask a Question ---"
   ]
  },
  {
   "cell_type": "code",
   "execution_count": null,
   "id": "b02cd764",
   "metadata": {},
   "outputs": [],
   "source": [
    "question = \"What desserts are available at Cafe Spice?\"\n",
    "response = chain.invoke({\"question\": question})\n",
    "\n",
    "print(\"SQL Query Used:\\n\", response['intermediate_steps'][0])\n",
    "print(\"\\nAnswer:\\n\", response['result'])"
   ]
  }
 ],
 "metadata": {
  "kernelspec": {
   "display_name": "rag-env",
   "language": "python",
   "name": "python3"
  },
  "language_info": {
   "name": "python",
   "version": "3.8.10"
  }
 },
 "nbformat": 4,
 "nbformat_minor": 5
}
